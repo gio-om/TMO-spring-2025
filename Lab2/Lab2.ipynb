{
 "cells": [
  {
   "cell_type": "code",
   "execution_count": 56,
   "id": "f930a1ac",
   "metadata": {},
   "outputs": [],
   "source": [
    "import numpy as np\n",
    "import pandas as pd\n",
    "import matplotlib.pyplot as plt\n",
    "from sklearn.impute import SimpleImputer\n",
    "from sklearn.preprocessing import OneHotEncoder, LabelEncoder, OrdinalEncoder\n",
    "from sklearn.preprocessing import StandardScaler, MinMaxScaler\n",
    "import seaborn as sns\n",
    "%matplotlib inline \n",
    "sns.set(style=\"ticks\")"
   ]
  },
  {
   "cell_type": "markdown",
   "id": "368a51b9",
   "metadata": {},
   "source": [
    "Dataset link: https://www.kaggle.com/datasets/atharvasoundankar/fashion-retail-sales"
   ]
  },
  {
   "cell_type": "code",
   "execution_count": 82,
   "id": "93ae45c2",
   "metadata": {},
   "outputs": [
    {
     "data": {
      "text/html": [
       "<div>\n",
       "<style scoped>\n",
       "    .dataframe tbody tr th:only-of-type {\n",
       "        vertical-align: middle;\n",
       "    }\n",
       "\n",
       "    .dataframe tbody tr th {\n",
       "        vertical-align: top;\n",
       "    }\n",
       "\n",
       "    .dataframe thead th {\n",
       "        text-align: right;\n",
       "    }\n",
       "</style>\n",
       "<table border=\"1\" class=\"dataframe\">\n",
       "  <thead>\n",
       "    <tr style=\"text-align: right;\">\n",
       "      <th></th>\n",
       "      <th>Customer Reference ID</th>\n",
       "      <th>Item Purchased</th>\n",
       "      <th>Purchase Amount (USD)</th>\n",
       "      <th>Date Purchase</th>\n",
       "      <th>Review Rating</th>\n",
       "      <th>Payment Method</th>\n",
       "    </tr>\n",
       "  </thead>\n",
       "  <tbody>\n",
       "    <tr>\n",
       "      <th>0</th>\n",
       "      <td>4018</td>\n",
       "      <td>Handbag</td>\n",
       "      <td>4619.0</td>\n",
       "      <td>05-02-2023</td>\n",
       "      <td>NaN</td>\n",
       "      <td>Credit Card</td>\n",
       "    </tr>\n",
       "    <tr>\n",
       "      <th>1</th>\n",
       "      <td>4115</td>\n",
       "      <td>Tunic</td>\n",
       "      <td>2456.0</td>\n",
       "      <td>11-07-2023</td>\n",
       "      <td>2.0</td>\n",
       "      <td>Credit Card</td>\n",
       "    </tr>\n",
       "    <tr>\n",
       "      <th>2</th>\n",
       "      <td>4019</td>\n",
       "      <td>Tank Top</td>\n",
       "      <td>2102.0</td>\n",
       "      <td>23-03-2023</td>\n",
       "      <td>4.1</td>\n",
       "      <td>Cash</td>\n",
       "    </tr>\n",
       "    <tr>\n",
       "      <th>3</th>\n",
       "      <td>4097</td>\n",
       "      <td>Leggings</td>\n",
       "      <td>3126.0</td>\n",
       "      <td>15-03-2023</td>\n",
       "      <td>3.2</td>\n",
       "      <td>Cash</td>\n",
       "    </tr>\n",
       "    <tr>\n",
       "      <th>4</th>\n",
       "      <td>3997</td>\n",
       "      <td>Wallet</td>\n",
       "      <td>3003.0</td>\n",
       "      <td>27-11-2022</td>\n",
       "      <td>4.7</td>\n",
       "      <td>Cash</td>\n",
       "    </tr>\n",
       "  </tbody>\n",
       "</table>\n",
       "</div>"
      ],
      "text/plain": [
       "   Customer Reference ID Item Purchased  Purchase Amount (USD) Date Purchase  \\\n",
       "0                   4018        Handbag                 4619.0    05-02-2023   \n",
       "1                   4115          Tunic                 2456.0    11-07-2023   \n",
       "2                   4019       Tank Top                 2102.0    23-03-2023   \n",
       "3                   4097       Leggings                 3126.0    15-03-2023   \n",
       "4                   3997         Wallet                 3003.0    27-11-2022   \n",
       "\n",
       "   Review Rating Payment Method  \n",
       "0            NaN    Credit Card  \n",
       "1            2.0    Credit Card  \n",
       "2            4.1           Cash  \n",
       "3            3.2           Cash  \n",
       "4            4.7           Cash  "
      ]
     },
     "execution_count": 82,
     "metadata": {},
     "output_type": "execute_result"
    }
   ],
   "source": [
    "df = pd.read_csv('Fashion_Retail_Sales.csv', sep=\",\")\n",
    "df.head()"
   ]
  },
  {
   "cell_type": "code",
   "execution_count": 83,
   "id": "38771e8f",
   "metadata": {},
   "outputs": [
    {
     "name": "stdout",
     "output_type": "stream",
     "text": [
      "Всего строк: 3400\n"
     ]
    }
   ],
   "source": [
    "total_count = df.shape[0]\n",
    "print('Всего строк: {}'.format(total_count))"
   ]
  },
  {
   "cell_type": "markdown",
   "id": "0f84e286",
   "metadata": {},
   "source": [
    "## 1. Обработка пропусков"
   ]
  },
  {
   "cell_type": "code",
   "execution_count": 84,
   "id": "ec57a995",
   "metadata": {},
   "outputs": [
    {
     "name": "stdout",
     "output_type": "stream",
     "text": [
      "Customer Reference ID      0\n",
      "Item Purchased             0\n",
      "Purchase Amount (USD)    650\n",
      "Date Purchase              0\n",
      "Review Rating            324\n",
      "Payment Method             0\n",
      "dtype: int64\n"
     ]
    }
   ],
   "source": [
    "# проверим есть ли пропущенные значения\n",
    "print(df.isnull().sum())"
   ]
  },
  {
   "cell_type": "code",
   "execution_count": 85,
   "id": "34110172",
   "metadata": {},
   "outputs": [],
   "source": [
    "# Заполнение пропусков в 'Purchase Amount' средним значением\n",
    "if df['Purchase Amount (USD)'].isnull().any():  # Проверяем, есть ли пропуски в столбце\n",
    "    mean_amount = df['Purchase Amount (USD)'].dropna().mean()  # Считаем среднее, игнорируя NaN\n",
    "    df['Purchase Amount (USD)'].fillna(mean_amount, inplace=True)\n",
    "    df['Purchase Amount (USD)'] = df['Purchase Amount (USD)'].astype(int) "
   ]
  },
  {
   "cell_type": "code",
   "execution_count": 86,
   "id": "b49f95f0",
   "metadata": {},
   "outputs": [
    {
     "name": "stdout",
     "output_type": "stream",
     "text": [
      "Пропуски в 'Review Rating' заполнены медианой.\n"
     ]
    }
   ],
   "source": [
    "# Заполнение пропусков в 'Review Rating' медианой\n",
    "if df['Review Rating'].isnull().any():  # Проверяем, есть ли пропуски в столбце\n",
    "    median_rating = df['Review Rating'].dropna().median()  # Считаем медиану, игнорируя NaN\n",
    "    df['Review Rating'].fillna(median_rating, inplace=True)\n",
    "    print(\"Пропуски в 'Review Rating' заполнены медианой.\")"
   ]
  },
  {
   "cell_type": "markdown",
   "id": "c24c8a1d",
   "metadata": {},
   "source": [
    "## Гистограммы"
   ]
  },
  {
   "cell_type": "code",
   "execution_count": 87,
   "id": "51bc91ab",
   "metadata": {},
   "outputs": [
    {
     "data": {
      "image/png": "[encoded data removed]",
      "text/plain": [
       "<Figure size 720x432 with 1 Axes>"
      ]
     },
     "metadata": {},
     "output_type": "display_data"
    }
   ],
   "source": [
    "# 1.  Гистограмма для 'Purchase Amount (USD)'\n",
    "plt.figure(figsize=(10, 6))  \n",
    "plt.hist(df['Purchase Amount (USD)'], bins=50, color='skyblue', edgecolor='black') #bins - кол-во столбцов\n",
    "plt.title('Распределение Purchase Amount (USD)')\n",
    "plt.xlabel('Purchase Amount (USD)')\n",
    "plt.ylabel('Частота')\n",
    "plt.grid(True)  \n",
    "plt.show() "
   ]
  },
  {
   "cell_type": "code",
   "execution_count": 88,
   "id": "dc2e2595",
   "metadata": {},
   "outputs": [
    {
     "data": {
      "image/png": "[encoded data removed]",
      "text/plain": [
       "<Figure size 720x432 with 1 Axes>"
      ]
     },
     "metadata": {},
     "output_type": "display_data"
    }
   ],
   "source": [
    "# 2.  Гистограмма для 'Review Rating'\n",
    "plt.figure(figsize=(10, 6))\n",
    "plt.hist(df['Review Rating'], bins=20, color='lightcoral', edgecolor='black')\n",
    "plt.title('Распределение Review Rating')\n",
    "plt.xlabel('Review Rating')\n",
    "plt.ylabel('Частота')\n",
    "plt.grid(True)\n",
    "plt.show()"
   ]
  },
  {
   "cell_type": "code",
   "execution_count": null,
   "id": "c035c93c",
   "metadata": {},
   "outputs": [],
   "source": []
  },
  {
   "cell_type": "markdown",
   "id": "88e4bfff",
   "metadata": {},
   "source": [
    "## 2. Преобразование категориальных признаков"
   ]
  },
  {
   "cell_type": "code",
   "execution_count": 89,
   "id": "22926e5f",
   "metadata": {},
   "outputs": [
    {
     "name": "stdout",
     "output_type": "stream",
     "text": [
      "\n",
      "Категориальные признаки: Index(['Item Purchased', 'Date Purchase', 'Payment Method'], dtype='object')\n"
     ]
    }
   ],
   "source": [
    "categorical_features = df.select_dtypes(include='object').columns\n",
    "print(f\"\\nКатегориальные признаки: {categorical_features}\")"
   ]
  },
  {
   "cell_type": "code",
   "execution_count": 90,
   "id": "9957dc10",
   "metadata": {},
   "outputs": [],
   "source": [
    "# Убрали дату\n",
    "categorical_features = categorical_features.drop('Date Purchase')"
   ]
  },
  {
   "cell_type": "code",
   "execution_count": 91,
   "id": "0a259f51",
   "metadata": {},
   "outputs": [
    {
     "name": "stdout",
     "output_type": "stream",
     "text": [
      "Столбец 'Item Purchased' закодирован с помощью Label Encoding.\n",
      "Столбец 'Payment Method' закодирован с помощью Label Encoding.\n"
     ]
    }
   ],
   "source": [
    "le = LabelEncoder()\n",
    "# Применяем Label Encoding к столбцам 'Item Purchased' и 'Payment Method'\n",
    "for col in categorical_features:\n",
    "    df[col] = le.fit_transform(df[col])  # Label Encoding\n",
    "    print(f\"Столбец '{col}' закодирован с помощью Label Encoding.\")"
   ]
  },
  {
   "cell_type": "markdown",
   "id": "1b0d0517",
   "metadata": {},
   "source": [
    "### OneHotEncoder"
   ]
  },
  {
   "cell_type": "code",
   "execution_count": 95,
   "id": "d35ae765",
   "metadata": {},
   "outputs": [],
   "source": [
    "ohe = OneHotEncoder(handle_unknown='ignore', sparse=False) #handle_unknown='ignore' проигнорирует неизвестные значения, которые могут появиться в новых данных\n",
    "                                                                   #sparse_output=False вернет NumPy array, а не sparse matrix\n",
    "\n",
    "#    Обучим OneHotEncoder на категориальных признаках (кроме тех, что уже закодированы LabelEncoder-ом)\n",
    "ohe.fit(df[categorical_features])\n",
    "\n",
    "#    Преобразуем категориальные признаки\n",
    "ohe_values = ohe.transform(df[categorical_features])\n",
    "\n",
    "#    Создадим имена новых колонок\n",
    "ohe_feature_names = ohe.get_feature_names_out(categorical_features)\n",
    "\n",
    "#    Создадим новый DataFrame с закодированными признаками\n",
    "df_ohe = pd.DataFrame(ohe_values, columns=ohe_feature_names)\n"
   ]
  },
  {
   "cell_type": "code",
   "execution_count": 96,
   "id": "6b61d6bd",
   "metadata": {},
   "outputs": [
    {
     "data": {
      "text/plain": [
       "array([[0., 0., 0., ..., 0., 0., 1.],\n",
       "       [0., 0., 0., ..., 0., 0., 1.],\n",
       "       [0., 0., 0., ..., 0., 1., 0.],\n",
       "       ...,\n",
       "       [0., 0., 0., ..., 0., 0., 1.],\n",
       "       [0., 0., 0., ..., 0., 1., 0.],\n",
       "       [1., 0., 0., ..., 0., 1., 0.]])"
      ]
     },
     "execution_count": 96,
     "metadata": {},
     "output_type": "execute_result"
    }
   ],
   "source": [
    "ohe_values"
   ]
  },
  {
   "cell_type": "code",
   "execution_count": 98,
   "id": "c18796f2",
   "metadata": {},
   "outputs": [
    {
     "data": {
      "text/plain": [
       "array(['Item Purchased_0', 'Item Purchased_1', 'Item Purchased_2',\n",
       "       'Item Purchased_3', 'Item Purchased_4', 'Item Purchased_5',\n",
       "       'Item Purchased_6', 'Item Purchased_7', 'Item Purchased_8',\n",
       "       'Item Purchased_9', 'Item Purchased_10', 'Item Purchased_11',\n",
       "       'Item Purchased_12', 'Item Purchased_13', 'Item Purchased_14',\n",
       "       'Item Purchased_15', 'Item Purchased_16', 'Item Purchased_17',\n",
       "       'Item Purchased_18', 'Item Purchased_19', 'Item Purchased_20',\n",
       "       'Item Purchased_21', 'Item Purchased_22', 'Item Purchased_23',\n",
       "       'Item Purchased_24', 'Item Purchased_25', 'Item Purchased_26',\n",
       "       'Item Purchased_27', 'Item Purchased_28', 'Item Purchased_29',\n",
       "       'Item Purchased_30', 'Item Purchased_31', 'Item Purchased_32',\n",
       "       'Item Purchased_33', 'Item Purchased_34', 'Item Purchased_35',\n",
       "       'Item Purchased_36', 'Item Purchased_37', 'Item Purchased_38',\n",
       "       'Item Purchased_39', 'Item Purchased_40', 'Item Purchased_41',\n",
       "       'Item Purchased_42', 'Item Purchased_43', 'Item Purchased_44',\n",
       "       'Item Purchased_45', 'Item Purchased_46', 'Item Purchased_47',\n",
       "       'Item Purchased_48', 'Item Purchased_49', 'Payment Method_0',\n",
       "       'Payment Method_1'], dtype=object)"
      ]
     },
     "execution_count": 98,
     "metadata": {},
     "output_type": "execute_result"
    }
   ],
   "source": [
    "ohe_feature_names"
   ]
  },
  {
   "cell_type": "code",
   "execution_count": 99,
   "id": "81e004ba",
   "metadata": {},
   "outputs": [
    {
     "data": {
      "text/html": [
       "<div>\n",
       "<style scoped>\n",
       "    .dataframe tbody tr th:only-of-type {\n",
       "        vertical-align: middle;\n",
       "    }\n",
       "\n",
       "    .dataframe tbody tr th {\n",
       "        vertical-align: top;\n",
       "    }\n",
       "\n",
       "    .dataframe thead th {\n",
       "        text-align: right;\n",
       "    }\n",
       "</style>\n",
       "<table border=\"1\" class=\"dataframe\">\n",
       "  <thead>\n",
       "    <tr style=\"text-align: right;\">\n",
       "      <th></th>\n",
       "      <th>Item Purchased_0</th>\n",
       "      <th>Item Purchased_1</th>\n",
       "      <th>Item Purchased_2</th>\n",
       "      <th>Item Purchased_3</th>\n",
       "      <th>Item Purchased_4</th>\n",
       "      <th>Item Purchased_5</th>\n",
       "      <th>Item Purchased_6</th>\n",
       "      <th>Item Purchased_7</th>\n",
       "      <th>Item Purchased_8</th>\n",
       "      <th>Item Purchased_9</th>\n",
       "      <th>...</th>\n",
       "      <th>Item Purchased_42</th>\n",
       "      <th>Item Purchased_43</th>\n",
       "      <th>Item Purchased_44</th>\n",
       "      <th>Item Purchased_45</th>\n",
       "      <th>Item Purchased_46</th>\n",
       "      <th>Item Purchased_47</th>\n",
       "      <th>Item Purchased_48</th>\n",
       "      <th>Item Purchased_49</th>\n",
       "      <th>Payment Method_0</th>\n",
       "      <th>Payment Method_1</th>\n",
       "    </tr>\n",
       "  </thead>\n",
       "  <tbody>\n",
       "    <tr>\n",
       "      <th>0</th>\n",
       "      <td>0.0</td>\n",
       "      <td>0.0</td>\n",
       "      <td>0.0</td>\n",
       "      <td>0.0</td>\n",
       "      <td>0.0</td>\n",
       "      <td>0.0</td>\n",
       "      <td>0.0</td>\n",
       "      <td>0.0</td>\n",
       "      <td>0.0</td>\n",
       "      <td>0.0</td>\n",
       "      <td>...</td>\n",
       "      <td>0.0</td>\n",
       "      <td>0.0</td>\n",
       "      <td>0.0</td>\n",
       "      <td>0.0</td>\n",
       "      <td>0.0</td>\n",
       "      <td>0.0</td>\n",
       "      <td>0.0</td>\n",
       "      <td>0.0</td>\n",
       "      <td>0.0</td>\n",
       "      <td>1.0</td>\n",
       "    </tr>\n",
       "    <tr>\n",
       "      <th>1</th>\n",
       "      <td>0.0</td>\n",
       "      <td>0.0</td>\n",
       "      <td>0.0</td>\n",
       "      <td>0.0</td>\n",
       "      <td>0.0</td>\n",
       "      <td>0.0</td>\n",
       "      <td>0.0</td>\n",
       "      <td>0.0</td>\n",
       "      <td>0.0</td>\n",
       "      <td>0.0</td>\n",
       "      <td>...</td>\n",
       "      <td>0.0</td>\n",
       "      <td>0.0</td>\n",
       "      <td>0.0</td>\n",
       "      <td>0.0</td>\n",
       "      <td>1.0</td>\n",
       "      <td>0.0</td>\n",
       "      <td>0.0</td>\n",
       "      <td>0.0</td>\n",
       "      <td>0.0</td>\n",
       "      <td>1.0</td>\n",
       "    </tr>\n",
       "    <tr>\n",
       "      <th>2</th>\n",
       "      <td>0.0</td>\n",
       "      <td>0.0</td>\n",
       "      <td>0.0</td>\n",
       "      <td>0.0</td>\n",
       "      <td>0.0</td>\n",
       "      <td>0.0</td>\n",
       "      <td>0.0</td>\n",
       "      <td>0.0</td>\n",
       "      <td>0.0</td>\n",
       "      <td>0.0</td>\n",
       "      <td>...</td>\n",
       "      <td>1.0</td>\n",
       "      <td>0.0</td>\n",
       "      <td>0.0</td>\n",
       "      <td>0.0</td>\n",
       "      <td>0.0</td>\n",
       "      <td>0.0</td>\n",
       "      <td>0.0</td>\n",
       "      <td>0.0</td>\n",
       "      <td>1.0</td>\n",
       "      <td>0.0</td>\n",
       "    </tr>\n",
       "    <tr>\n",
       "      <th>3</th>\n",
       "      <td>0.0</td>\n",
       "      <td>0.0</td>\n",
       "      <td>0.0</td>\n",
       "      <td>0.0</td>\n",
       "      <td>0.0</td>\n",
       "      <td>0.0</td>\n",
       "      <td>0.0</td>\n",
       "      <td>0.0</td>\n",
       "      <td>0.0</td>\n",
       "      <td>0.0</td>\n",
       "      <td>...</td>\n",
       "      <td>0.0</td>\n",
       "      <td>0.0</td>\n",
       "      <td>0.0</td>\n",
       "      <td>0.0</td>\n",
       "      <td>0.0</td>\n",
       "      <td>0.0</td>\n",
       "      <td>0.0</td>\n",
       "      <td>0.0</td>\n",
       "      <td>1.0</td>\n",
       "      <td>0.0</td>\n",
       "    </tr>\n",
       "    <tr>\n",
       "      <th>4</th>\n",
       "      <td>0.0</td>\n",
       "      <td>0.0</td>\n",
       "      <td>0.0</td>\n",
       "      <td>0.0</td>\n",
       "      <td>0.0</td>\n",
       "      <td>0.0</td>\n",
       "      <td>0.0</td>\n",
       "      <td>0.0</td>\n",
       "      <td>0.0</td>\n",
       "      <td>0.0</td>\n",
       "      <td>...</td>\n",
       "      <td>0.0</td>\n",
       "      <td>0.0</td>\n",
       "      <td>0.0</td>\n",
       "      <td>0.0</td>\n",
       "      <td>0.0</td>\n",
       "      <td>0.0</td>\n",
       "      <td>0.0</td>\n",
       "      <td>1.0</td>\n",
       "      <td>1.0</td>\n",
       "      <td>0.0</td>\n",
       "    </tr>\n",
       "    <tr>\n",
       "      <th>...</th>\n",
       "      <td>...</td>\n",
       "      <td>...</td>\n",
       "      <td>...</td>\n",
       "      <td>...</td>\n",
       "      <td>...</td>\n",
       "      <td>...</td>\n",
       "      <td>...</td>\n",
       "      <td>...</td>\n",
       "      <td>...</td>\n",
       "      <td>...</td>\n",
       "      <td>...</td>\n",
       "      <td>...</td>\n",
       "      <td>...</td>\n",
       "      <td>...</td>\n",
       "      <td>...</td>\n",
       "      <td>...</td>\n",
       "      <td>...</td>\n",
       "      <td>...</td>\n",
       "      <td>...</td>\n",
       "      <td>...</td>\n",
       "      <td>...</td>\n",
       "    </tr>\n",
       "    <tr>\n",
       "      <th>3395</th>\n",
       "      <td>0.0</td>\n",
       "      <td>0.0</td>\n",
       "      <td>0.0</td>\n",
       "      <td>0.0</td>\n",
       "      <td>0.0</td>\n",
       "      <td>0.0</td>\n",
       "      <td>0.0</td>\n",
       "      <td>0.0</td>\n",
       "      <td>0.0</td>\n",
       "      <td>0.0</td>\n",
       "      <td>...</td>\n",
       "      <td>0.0</td>\n",
       "      <td>0.0</td>\n",
       "      <td>0.0</td>\n",
       "      <td>0.0</td>\n",
       "      <td>0.0</td>\n",
       "      <td>0.0</td>\n",
       "      <td>0.0</td>\n",
       "      <td>0.0</td>\n",
       "      <td>1.0</td>\n",
       "      <td>0.0</td>\n",
       "    </tr>\n",
       "    <tr>\n",
       "      <th>3396</th>\n",
       "      <td>0.0</td>\n",
       "      <td>0.0</td>\n",
       "      <td>0.0</td>\n",
       "      <td>0.0</td>\n",
       "      <td>0.0</td>\n",
       "      <td>0.0</td>\n",
       "      <td>0.0</td>\n",
       "      <td>0.0</td>\n",
       "      <td>0.0</td>\n",
       "      <td>0.0</td>\n",
       "      <td>...</td>\n",
       "      <td>0.0</td>\n",
       "      <td>0.0</td>\n",
       "      <td>0.0</td>\n",
       "      <td>0.0</td>\n",
       "      <td>0.0</td>\n",
       "      <td>0.0</td>\n",
       "      <td>0.0</td>\n",
       "      <td>0.0</td>\n",
       "      <td>1.0</td>\n",
       "      <td>0.0</td>\n",
       "    </tr>\n",
       "    <tr>\n",
       "      <th>3397</th>\n",
       "      <td>0.0</td>\n",
       "      <td>0.0</td>\n",
       "      <td>0.0</td>\n",
       "      <td>0.0</td>\n",
       "      <td>0.0</td>\n",
       "      <td>0.0</td>\n",
       "      <td>0.0</td>\n",
       "      <td>0.0</td>\n",
       "      <td>0.0</td>\n",
       "      <td>0.0</td>\n",
       "      <td>...</td>\n",
       "      <td>0.0</td>\n",
       "      <td>0.0</td>\n",
       "      <td>0.0</td>\n",
       "      <td>0.0</td>\n",
       "      <td>0.0</td>\n",
       "      <td>0.0</td>\n",
       "      <td>0.0</td>\n",
       "      <td>0.0</td>\n",
       "      <td>0.0</td>\n",
       "      <td>1.0</td>\n",
       "    </tr>\n",
       "    <tr>\n",
       "      <th>3398</th>\n",
       "      <td>0.0</td>\n",
       "      <td>0.0</td>\n",
       "      <td>0.0</td>\n",
       "      <td>0.0</td>\n",
       "      <td>0.0</td>\n",
       "      <td>0.0</td>\n",
       "      <td>0.0</td>\n",
       "      <td>0.0</td>\n",
       "      <td>0.0</td>\n",
       "      <td>0.0</td>\n",
       "      <td>...</td>\n",
       "      <td>0.0</td>\n",
       "      <td>0.0</td>\n",
       "      <td>0.0</td>\n",
       "      <td>0.0</td>\n",
       "      <td>0.0</td>\n",
       "      <td>0.0</td>\n",
       "      <td>0.0</td>\n",
       "      <td>0.0</td>\n",
       "      <td>1.0</td>\n",
       "      <td>0.0</td>\n",
       "    </tr>\n",
       "    <tr>\n",
       "      <th>3399</th>\n",
       "      <td>1.0</td>\n",
       "      <td>0.0</td>\n",
       "      <td>0.0</td>\n",
       "      <td>0.0</td>\n",
       "      <td>0.0</td>\n",
       "      <td>0.0</td>\n",
       "      <td>0.0</td>\n",
       "      <td>0.0</td>\n",
       "      <td>0.0</td>\n",
       "      <td>0.0</td>\n",
       "      <td>...</td>\n",
       "      <td>0.0</td>\n",
       "      <td>0.0</td>\n",
       "      <td>0.0</td>\n",
       "      <td>0.0</td>\n",
       "      <td>0.0</td>\n",
       "      <td>0.0</td>\n",
       "      <td>0.0</td>\n",
       "      <td>0.0</td>\n",
       "      <td>1.0</td>\n",
       "      <td>0.0</td>\n",
       "    </tr>\n",
       "  </tbody>\n",
       "</table>\n",
       "<p>3400 rows × 52 columns</p>\n",
       "</div>"
      ],
      "text/plain": [
       "      Item Purchased_0  Item Purchased_1  Item Purchased_2  Item Purchased_3  \\\n",
       "0                  0.0               0.0               0.0               0.0   \n",
       "1                  0.0               0.0               0.0               0.0   \n",
       "2                  0.0               0.0               0.0               0.0   \n",
       "3                  0.0               0.0               0.0               0.0   \n",
       "4                  0.0               0.0               0.0               0.0   \n",
       "...                ...               ...               ...               ...   \n",
       "3395               0.0               0.0               0.0               0.0   \n",
       "3396               0.0               0.0               0.0               0.0   \n",
       "3397               0.0               0.0               0.0               0.0   \n",
       "3398               0.0               0.0               0.0               0.0   \n",
       "3399               1.0               0.0               0.0               0.0   \n",
       "\n",
       "      Item Purchased_4  Item Purchased_5  Item Purchased_6  Item Purchased_7  \\\n",
       "0                  0.0               0.0               0.0               0.0   \n",
       "1                  0.0               0.0               0.0               0.0   \n",
       "2                  0.0               0.0               0.0               0.0   \n",
       "3                  0.0               0.0               0.0               0.0   \n",
       "4                  0.0               0.0               0.0               0.0   \n",
       "...                ...               ...               ...               ...   \n",
       "3395               0.0               0.0               0.0               0.0   \n",
       "3396               0.0               0.0               0.0               0.0   \n",
       "3397               0.0               0.0               0.0               0.0   \n",
       "3398               0.0               0.0               0.0               0.0   \n",
       "3399               0.0               0.0               0.0               0.0   \n",
       "\n",
       "      Item Purchased_8  Item Purchased_9  ...  Item Purchased_42  \\\n",
       "0                  0.0               0.0  ...                0.0   \n",
       "1                  0.0               0.0  ...                0.0   \n",
       "2                  0.0               0.0  ...                1.0   \n",
       "3                  0.0               0.0  ...                0.0   \n",
       "4                  0.0               0.0  ...                0.0   \n",
       "...                ...               ...  ...                ...   \n",
       "3395               0.0               0.0  ...                0.0   \n",
       "3396               0.0               0.0  ...                0.0   \n",
       "3397               0.0               0.0  ...                0.0   \n",
       "3398               0.0               0.0  ...                0.0   \n",
       "3399               0.0               0.0  ...                0.0   \n",
       "\n",
       "      Item Purchased_43  Item Purchased_44  Item Purchased_45  \\\n",
       "0                   0.0                0.0                0.0   \n",
       "1                   0.0                0.0                0.0   \n",
       "2                   0.0                0.0                0.0   \n",
       "3                   0.0                0.0                0.0   \n",
       "4                   0.0                0.0                0.0   \n",
       "...                 ...                ...                ...   \n",
       "3395                0.0                0.0                0.0   \n",
       "3396                0.0                0.0                0.0   \n",
       "3397                0.0                0.0                0.0   \n",
       "3398                0.0                0.0                0.0   \n",
       "3399                0.0                0.0                0.0   \n",
       "\n",
       "      Item Purchased_46  Item Purchased_47  Item Purchased_48  \\\n",
       "0                   0.0                0.0                0.0   \n",
       "1                   1.0                0.0                0.0   \n",
       "2                   0.0                0.0                0.0   \n",
       "3                   0.0                0.0                0.0   \n",
       "4                   0.0                0.0                0.0   \n",
       "...                 ...                ...                ...   \n",
       "3395                0.0                0.0                0.0   \n",
       "3396                0.0                0.0                0.0   \n",
       "3397                0.0                0.0                0.0   \n",
       "3398                0.0                0.0                0.0   \n",
       "3399                0.0                0.0                0.0   \n",
       "\n",
       "      Item Purchased_49  Payment Method_0  Payment Method_1  \n",
       "0                   0.0               0.0               1.0  \n",
       "1                   0.0               0.0               1.0  \n",
       "2                   0.0               1.0               0.0  \n",
       "3                   0.0               1.0               0.0  \n",
       "4                   1.0               1.0               0.0  \n",
       "...                 ...               ...               ...  \n",
       "3395                0.0               1.0               0.0  \n",
       "3396                0.0               1.0               0.0  \n",
       "3397                0.0               0.0               1.0  \n",
       "3398                0.0               1.0               0.0  \n",
       "3399                0.0               1.0               0.0  \n",
       "\n",
       "[3400 rows x 52 columns]"
      ]
     },
     "execution_count": 99,
     "metadata": {},
     "output_type": "execute_result"
    }
   ],
   "source": [
    "df_ohe"
   ]
  },
  {
   "cell_type": "markdown",
   "id": "52e83ee8",
   "metadata": {},
   "source": [
    "Если использовать OHE"
   ]
  },
  {
   "cell_type": "code",
   "execution_count": 100,
   "id": "e3d52f19",
   "metadata": {},
   "outputs": [],
   "source": [
    "#    Объединим новый DataFrame с исходным\n",
    "#df = pd.concat([df, df_ohe], axis=1)\n",
    "\n",
    "#    Удалим старые категориальные колонки\n",
    "#df.drop(columns=categorical_features, inplace=True)"
   ]
  },
  {
   "cell_type": "markdown",
   "id": "79f4a592",
   "metadata": {},
   "source": [
    "## Масштабирование "
   ]
  },
  {
   "cell_type": "code",
   "execution_count": 105,
   "id": "72a810b9",
   "metadata": {},
   "outputs": [],
   "source": [
    "numerical_features = ['Purchase Amount (USD)', 'Review Rating']"
   ]
  },
  {
   "cell_type": "code",
   "execution_count": 111,
   "id": "9d8d4edc",
   "metadata": {},
   "outputs": [
    {
     "name": "stdout",
     "output_type": "stream",
     "text": [
      "   Customer Reference ID  Item Purchased  Purchase Amount (USD) Date Purchase  \\\n",
      "0                   4018              13              11.829137    05-02-2023   \n",
      "1                   4115              46               6.095389    11-07-2023   \n",
      "2                   4019              42               5.156995    23-03-2023   \n",
      "3                   4097              20               7.871446    15-03-2023   \n",
      "4                   3997              49               7.545394    27-11-2022   \n",
      "\n",
      "   Review Rating  Payment Method  \n",
      "0       0.000776               1  \n",
      "1      -0.908445               1  \n",
      "2       1.000918               0  \n",
      "3       0.182620               0  \n",
      "4       1.546450               0  \n",
      "       Customer Reference ID  Item Purchased  Purchase Amount (USD)  \\\n",
      "count            3400.000000     3400.000000           3.400000e+03   \n",
      "mean             4039.660588       24.510588           2.303754e-16   \n",
      "std                48.122583       14.491759           1.000147e+00   \n",
      "min              3957.000000        0.000000          -3.885432e-01   \n",
      "25%              3997.000000       12.000000          -2.294934e-01   \n",
      "50%              4040.000000       25.000000          -6.514183e-02   \n",
      "75%              4081.000000       37.000000          -1.521889e-03   \n",
      "max              4122.000000       49.000000           1.265885e+01   \n",
      "\n",
      "       Review Rating  Payment Method  \n",
      "count   3.400000e+03     3400.000000  \n",
      "mean   -1.776357e-17        0.520588  \n",
      "std     1.000147e+00        0.499649  \n",
      "min    -1.817665e+00        0.000000  \n",
      "25%    -8.175229e-01        0.000000  \n",
      "50%     7.755116e-04        1.000000  \n",
      "75%     8.190739e-01        1.000000  \n",
      "max     1.819216e+00        1.000000  \n"
     ]
    }
   ],
   "source": [
    "scaler = StandardScaler()\n",
    "scaler.fit(df[numerical_features]) # Обучаем StandardScaler на numerical_features\n",
    "df[numerical_features] = scaler.transform(df[numerical_features]) # масштабируем числовые признаки\n",
    "\n",
    "print(df.head())\n",
    "print(df.describe())"
   ]
  },
  {
   "cell_type": "code",
   "execution_count": 112,
   "id": "600518de",
   "metadata": {},
   "outputs": [
    {
     "name": "stdout",
     "output_type": "stream",
     "text": [
      "   Customer Reference ID  Item Purchased  Purchase Amount (USD) Date Purchase  \\\n",
      "0                   4018              13               0.936408    05-02-2023   \n",
      "1                   4115              46               0.496952    11-07-2023   \n",
      "2                   4019              42               0.425030    23-03-2023   \n",
      "3                   4097              20               0.633076    15-03-2023   \n",
      "4                   3997              49               0.608086    27-11-2022   \n",
      "\n",
      "   Review Rating  Payment Method  \n",
      "0          0.500               1  \n",
      "1          0.250               1  \n",
      "2          0.775               0  \n",
      "3          0.550               0  \n",
      "4          0.925               0  \n",
      "       Customer Reference ID  Item Purchased  Purchase Amount (USD)  \\\n",
      "count            3400.000000     3400.000000            3400.000000   \n",
      "mean             4039.660588       24.510588               0.029779   \n",
      "std                48.122583       14.491759               0.076655   \n",
      "min              3957.000000        0.000000               0.000000   \n",
      "25%              3997.000000       12.000000               0.012190   \n",
      "50%              4040.000000       25.000000               0.024787   \n",
      "75%              4081.000000       37.000000               0.029663   \n",
      "max              4122.000000       49.000000               1.000000   \n",
      "\n",
      "       Review Rating  Payment Method  \n",
      "count    3400.000000     3400.000000  \n",
      "mean        0.499787        0.520588  \n",
      "std         0.275001        0.499649  \n",
      "min         0.000000        0.000000  \n",
      "25%         0.275000        0.000000  \n",
      "50%         0.500000        1.000000  \n",
      "75%         0.725000        1.000000  \n",
      "max         1.000000        1.000000  \n"
     ]
    }
   ],
   "source": [
    "scaler = MinMaxScaler()  # Используем MinMaxScaler\n",
    "\n",
    "scaler.fit(df[numerical_features])  # Обучаем MinMaxScaler\n",
    "df[numerical_features] = scaler.transform(df[numerical_features])  # масштабируем числовые признаки\n",
    "\n",
    "print(df.head())\n",
    "print(df.describe())"
   ]
  }
 ],
 "metadata": {
  "kernelspec": {
   "display_name": "Python 3 (ipykernel)",
   "language": "python",
   "name": "python3"
  },
  "language_info": {
   "codemirror_mode": {
    "name": "ipython",
    "version": 3
   },
   "file_extension": ".py",
   "mimetype": "text/x-python",
   "name": "python",
   "nbconvert_exporter": "python",
   "pygments_lexer": "ipython3",
   "version": "3.9.12"
  }
 },
 "nbformat": 4,
 "nbformat_minor": 5
}
